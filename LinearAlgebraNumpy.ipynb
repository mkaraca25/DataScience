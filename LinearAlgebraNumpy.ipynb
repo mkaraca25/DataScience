{
  "nbformat": 4,
  "nbformat_minor": 0,
  "metadata": {
    "colab": {
      "name": "LinearAlgebraNumpy.ipynb",
      "provenance": [],
      "authorship_tag": "ABX9TyMuOnwUfKeCw1wNXYVpYFzx",
      "include_colab_link": true
    },
    "kernelspec": {
      "name": "python3",
      "display_name": "Python 3"
    },
    "language_info": {
      "name": "python"
    }
  },
  "cells": [
    {
      "cell_type": "markdown",
      "metadata": {
        "id": "view-in-github",
        "colab_type": "text"
      },
      "source": [
        "<a href=\"https://colab.research.google.com/github/mkaraca25/DataScience/blob/main/LinearAlgebraNumpy.ipynb\" target=\"_parent\"><img src=\"https://colab.research.google.com/assets/colab-badge.svg\" alt=\"Open In Colab\"/></a>"
      ]
    },
    {
      "cell_type": "code",
      "execution_count": 111,
      "metadata": {
        "id": "HPJMzdvbcq5E"
      },
      "outputs": [],
      "source": [
        "import numpy as np"
      ]
    },
    {
      "cell_type": "code",
      "source": [
        "vector_1=np.array([1,2,3,4,5,6,7,8,9,10])"
      ],
      "metadata": {
        "id": "0gGza-V8dGc_"
      },
      "execution_count": 112,
      "outputs": []
    },
    {
      "cell_type": "code",
      "source": [
        "vector_1*2"
      ],
      "metadata": {
        "colab": {
          "base_uri": "https://localhost:8080/"
        },
        "id": "mN7JgRzIdWVw",
        "outputId": "2833539d-cb49-4a2f-dabc-5842fa2d8315"
      },
      "execution_count": 113,
      "outputs": [
        {
          "output_type": "execute_result",
          "data": {
            "text/plain": [
              "array([ 2,  4,  6,  8, 10, 12, 14, 16, 18, 20])"
            ]
          },
          "metadata": {},
          "execution_count": 113
        }
      ]
    },
    {
      "cell_type": "code",
      "source": [
        "vector_2=np.array([2,1,3,4,5,7,8,6,10,9])\n",
        "vector_1+vector_2"
      ],
      "metadata": {
        "colab": {
          "base_uri": "https://localhost:8080/"
        },
        "id": "K3VfgCqWdb6p",
        "outputId": "e3ad9d38-822e-4a91-acf2-5a94655e91c0"
      },
      "execution_count": 114,
      "outputs": [
        {
          "output_type": "execute_result",
          "data": {
            "text/plain": [
              "array([ 3,  3,  6,  8, 10, 13, 15, 14, 19, 19])"
            ]
          },
          "metadata": {},
          "execution_count": 114
        }
      ]
    },
    {
      "cell_type": "code",
      "source": [
        "Matrix_1=np.random.randint(50,size=(5,5))\n",
        "Matrix_1"
      ],
      "metadata": {
        "colab": {
          "base_uri": "https://localhost:8080/"
        },
        "id": "Hsoduaq42U-K",
        "outputId": "14ea3641-f9ff-46de-df07-42ecccf9c204"
      },
      "execution_count": 115,
      "outputs": [
        {
          "output_type": "execute_result",
          "data": {
            "text/plain": [
              "array([[29, 39, 43, 19, 49],\n",
              "       [37, 39, 38, 35, 14],\n",
              "       [17, 16, 15, 13, 30],\n",
              "       [25,  0, 11,  2, 14],\n",
              "       [46, 43, 31, 34, 47]])"
            ]
          },
          "metadata": {},
          "execution_count": 115
        }
      ]
    },
    {
      "cell_type": "code",
      "source": [
        "Matrix_1+5"
      ],
      "metadata": {
        "colab": {
          "base_uri": "https://localhost:8080/"
        },
        "id": "mukkhIpA2vY3",
        "outputId": "d3cfcb53-1c50-49fd-e322-a79295e5baea"
      },
      "execution_count": 116,
      "outputs": [
        {
          "output_type": "execute_result",
          "data": {
            "text/plain": [
              "array([[34, 44, 48, 24, 54],\n",
              "       [42, 44, 43, 40, 19],\n",
              "       [22, 21, 20, 18, 35],\n",
              "       [30,  5, 16,  7, 19],\n",
              "       [51, 48, 36, 39, 52]])"
            ]
          },
          "metadata": {},
          "execution_count": 116
        }
      ]
    },
    {
      "cell_type": "code",
      "source": [
        "Matrix_1*2"
      ],
      "metadata": {
        "colab": {
          "base_uri": "https://localhost:8080/"
        },
        "id": "MbZwqmgE3EEe",
        "outputId": "ee835689-5173-4bdd-9195-770c1d3a3cde"
      },
      "execution_count": 117,
      "outputs": [
        {
          "output_type": "execute_result",
          "data": {
            "text/plain": [
              "array([[58, 78, 86, 38, 98],\n",
              "       [74, 78, 76, 70, 28],\n",
              "       [34, 32, 30, 26, 60],\n",
              "       [50,  0, 22,  4, 28],\n",
              "       [92, 86, 62, 68, 94]])"
            ]
          },
          "metadata": {},
          "execution_count": 117
        }
      ]
    },
    {
      "cell_type": "code",
      "source": [
        "Tensor_1=np.random.randint(50,size=(3,3,5))\n",
        "Tensor_1"
      ],
      "metadata": {
        "colab": {
          "base_uri": "https://localhost:8080/"
        },
        "id": "aCTk_Fvx3Isu",
        "outputId": "b39038fe-387b-4a56-c5c8-e4cc0cfddcb0"
      },
      "execution_count": 118,
      "outputs": [
        {
          "output_type": "execute_result",
          "data": {
            "text/plain": [
              "array([[[10,  9, 25, 45, 20],\n",
              "        [43, 21, 35,  2, 28],\n",
              "        [10, 46,  2, 34, 15]],\n",
              "\n",
              "       [[27, 12,  4, 43, 47],\n",
              "        [10, 29,  2, 43,  8],\n",
              "        [20, 33, 45, 15, 33]],\n",
              "\n",
              "       [[21, 15,  3, 26, 33],\n",
              "        [32,  4, 40, 10,  4],\n",
              "        [27, 42, 23, 37,  0]]])"
            ]
          },
          "metadata": {},
          "execution_count": 118
        }
      ]
    },
    {
      "cell_type": "code",
      "source": [
        "print(vector_1.shape)"
      ],
      "metadata": {
        "colab": {
          "base_uri": "https://localhost:8080/"
        },
        "id": "8WjXbdoL3iu-",
        "outputId": "66fc1cf8-7b6c-471c-fe8d-cc7287e4a462"
      },
      "execution_count": 119,
      "outputs": [
        {
          "output_type": "stream",
          "name": "stdout",
          "text": [
            "(10,)\n"
          ]
        }
      ]
    },
    {
      "cell_type": "code",
      "source": [
        "print(Matrix_1.shape)"
      ],
      "metadata": {
        "colab": {
          "base_uri": "https://localhost:8080/"
        },
        "id": "tw7JGnN-4Da1",
        "outputId": "ef3f5430-c691-47dd-c628-ebfa79c4b839"
      },
      "execution_count": 120,
      "outputs": [
        {
          "output_type": "stream",
          "name": "stdout",
          "text": [
            "(5, 5)\n"
          ]
        }
      ]
    },
    {
      "cell_type": "code",
      "source": [
        "print(Tensor_1.shape)"
      ],
      "metadata": {
        "colab": {
          "base_uri": "https://localhost:8080/"
        },
        "id": "fs2Ila8m4MyZ",
        "outputId": "eeb8ff03-b3b3-4889-bbbd-51d824d07732"
      },
      "execution_count": 121,
      "outputs": [
        {
          "output_type": "stream",
          "name": "stdout",
          "text": [
            "(3, 3, 5)\n"
          ]
        }
      ]
    },
    {
      "cell_type": "code",
      "source": [
        "print(vector_1.size,Matrix_1.size,Tensor_1.size)"
      ],
      "metadata": {
        "colab": {
          "base_uri": "https://localhost:8080/"
        },
        "id": "T8_k4J1_4T5g",
        "outputId": "88cee532-7b77-4baf-f062-d99eb0cfe9a2"
      },
      "execution_count": 122,
      "outputs": [
        {
          "output_type": "stream",
          "name": "stdout",
          "text": [
            "10 25 45\n"
          ]
        }
      ]
    },
    {
      "cell_type": "code",
      "source": [
        "vector_1.dot(vector_2)"
      ],
      "metadata": {
        "colab": {
          "base_uri": "https://localhost:8080/"
        },
        "id": "9FYV9He94mhm",
        "outputId": "d65c3199-5be9-4493-c159-8e5c7dd2763b"
      },
      "execution_count": 123,
      "outputs": [
        {
          "output_type": "execute_result",
          "data": {
            "text/plain": [
              "380"
            ]
          },
          "metadata": {},
          "execution_count": 123
        }
      ]
    },
    {
      "cell_type": "code",
      "source": [
        "Matrix_1.dot(Matrix_1)"
      ],
      "metadata": {
        "colab": {
          "base_uri": "https://localhost:8080/"
        },
        "id": "sOAY2YB15F1S",
        "outputId": "15a708ff-4ab6-48dd-f358-18d187bed56f"
      },
      "execution_count": 124,
      "outputs": [
        {
          "output_type": "execute_result",
          "data": {
            "text/plain": [
              "array([[5744, 5447, 5102, 4179, 5826],\n",
              "       [4681, 4174, 4462, 3108, 4647],\n",
              "       [3045, 2817, 2637, 2124, 3099],\n",
              "       [1606, 1753, 1696, 1098, 2241],\n",
              "       [6464, 5988, 5908, 4448, 6471]])"
            ]
          },
          "metadata": {},
          "execution_count": 124
        }
      ]
    },
    {
      "cell_type": "code",
      "source": [
        "matrix_A=np.random.randint(10,size=(2,2))\n",
        "matrix_A"
      ],
      "metadata": {
        "colab": {
          "base_uri": "https://localhost:8080/"
        },
        "id": "M_CWgRk55bah",
        "outputId": "52466a37-7d11-43e8-875c-9dbb3bc681e9"
      },
      "execution_count": 125,
      "outputs": [
        {
          "output_type": "execute_result",
          "data": {
            "text/plain": [
              "array([[4, 6],\n",
              "       [7, 6]])"
            ]
          },
          "metadata": {},
          "execution_count": 125
        }
      ]
    },
    {
      "cell_type": "code",
      "source": [
        "matrix_B=np.matrix(np.random.randint(10,size=(2,2)))\n",
        "matrix_B"
      ],
      "metadata": {
        "colab": {
          "base_uri": "https://localhost:8080/"
        },
        "id": "DBivCOfO51TF",
        "outputId": "3075a59f-d210-42e5-b361-ef0be54a95bb"
      },
      "execution_count": 126,
      "outputs": [
        {
          "output_type": "execute_result",
          "data": {
            "text/plain": [
              "matrix([[0, 0],\n",
              "        [9, 6]])"
            ]
          },
          "metadata": {},
          "execution_count": 126
        }
      ]
    },
    {
      "cell_type": "code",
      "source": [
        "matrix_A[0,0]"
      ],
      "metadata": {
        "colab": {
          "base_uri": "https://localhost:8080/"
        },
        "id": "t_32W52T6AvT",
        "outputId": "6d863556-c2f5-4281-efcf-6ac170164a82"
      },
      "execution_count": 127,
      "outputs": [
        {
          "output_type": "execute_result",
          "data": {
            "text/plain": [
              "4"
            ]
          },
          "metadata": {},
          "execution_count": 127
        }
      ]
    },
    {
      "cell_type": "code",
      "source": [
        "matrix_B[0,0]"
      ],
      "metadata": {
        "colab": {
          "base_uri": "https://localhost:8080/"
        },
        "id": "YNf0v3nE6pXz",
        "outputId": "5334b104-d9a2-4c34-f1b6-378478344252"
      },
      "execution_count": 128,
      "outputs": [
        {
          "output_type": "execute_result",
          "data": {
            "text/plain": [
              "0"
            ]
          },
          "metadata": {},
          "execution_count": 128
        }
      ]
    },
    {
      "cell_type": "code",
      "source": [
        "matrix_C=matrix_A.dot(matrix_B)\n",
        "matrix_C"
      ],
      "metadata": {
        "colab": {
          "base_uri": "https://localhost:8080/"
        },
        "id": "cJn1NDYX6wiG",
        "outputId": "44093fa7-a9aa-49e1-b082-62f171128b2c"
      },
      "execution_count": 129,
      "outputs": [
        {
          "output_type": "execute_result",
          "data": {
            "text/plain": [
              "matrix([[54, 36],\n",
              "        [54, 36]])"
            ]
          },
          "metadata": {},
          "execution_count": 129
        }
      ]
    },
    {
      "cell_type": "code",
      "source": [
        "np.identity(4)"
      ],
      "metadata": {
        "colab": {
          "base_uri": "https://localhost:8080/"
        },
        "id": "sRtBSxj67OOh",
        "outputId": "337bd56b-915d-4d8f-f8c1-a519bce3a47d"
      },
      "execution_count": 130,
      "outputs": [
        {
          "output_type": "execute_result",
          "data": {
            "text/plain": [
              "array([[1., 0., 0., 0.],\n",
              "       [0., 1., 0., 0.],\n",
              "       [0., 0., 1., 0.],\n",
              "       [0., 0., 0., 1.]])"
            ]
          },
          "metadata": {},
          "execution_count": 130
        }
      ]
    },
    {
      "cell_type": "code",
      "source": [
        "matrix_D=np.random.randint(10,size=(4,4))\n",
        "matrix_D\n"
      ],
      "metadata": {
        "colab": {
          "base_uri": "https://localhost:8080/"
        },
        "id": "p6dQyKki7-cq",
        "outputId": "90123599-214e-4a10-c1b3-8b769008d002"
      },
      "execution_count": 131,
      "outputs": [
        {
          "output_type": "execute_result",
          "data": {
            "text/plain": [
              "array([[3, 1, 7, 6],\n",
              "       [9, 2, 1, 8],\n",
              "       [7, 4, 0, 4],\n",
              "       [1, 2, 9, 7]])"
            ]
          },
          "metadata": {},
          "execution_count": 131
        }
      ]
    },
    {
      "cell_type": "code",
      "source": [
        "np.dot(matrix_D,np.identity(4))"
      ],
      "metadata": {
        "colab": {
          "base_uri": "https://localhost:8080/"
        },
        "id": "YkrLrpL-8bEH",
        "outputId": "8671d3a3-bead-4d1a-d3ba-e4d08133c190"
      },
      "execution_count": 132,
      "outputs": [
        {
          "output_type": "execute_result",
          "data": {
            "text/plain": [
              "array([[3., 1., 7., 6.],\n",
              "       [9., 2., 1., 8.],\n",
              "       [7., 4., 0., 4.],\n",
              "       [1., 2., 9., 7.]])"
            ]
          },
          "metadata": {},
          "execution_count": 132
        }
      ]
    },
    {
      "cell_type": "code",
      "source": [
        "matrix_E=np.linalg.inv(matrix_D) #Getting the inverse of the matrix\n",
        "matrix_E"
      ],
      "metadata": {
        "colab": {
          "base_uri": "https://localhost:8080/"
        },
        "id": "zRqcJT7v8zyZ",
        "outputId": "23408f58-452c-4d64-e2c2-a0707b064a03"
      },
      "execution_count": 133,
      "outputs": [
        {
          "output_type": "execute_result",
          "data": {
            "text/plain": [
              "array([[ 0.49620253, -0.10126582,  0.11392405, -0.37468354],\n",
              "       [-0.34177215, -0.11392405,  0.25316456,  0.27848101],\n",
              "       [ 0.43037975, -0.18987342,  0.08860759, -0.20253165],\n",
              "       [-0.52658228,  0.29113924, -0.20253165,  0.37721519]])"
            ]
          },
          "metadata": {},
          "execution_count": 133
        }
      ]
    },
    {
      "cell_type": "code",
      "source": [
        "np.dot(matrix_D,matrix_E)"
      ],
      "metadata": {
        "colab": {
          "base_uri": "https://localhost:8080/"
        },
        "id": "gYLs2jCU9etV",
        "outputId": "9eb71c56-f6ad-48da-eec4-3389fb97a378"
      },
      "execution_count": 134,
      "outputs": [
        {
          "output_type": "execute_result",
          "data": {
            "text/plain": [
              "array([[ 1.00000000e+00,  3.33066907e-16, -1.11022302e-16,\n",
              "         1.11022302e-16],\n",
              "       [ 0.00000000e+00,  1.00000000e+00,  0.00000000e+00,\n",
              "         8.88178420e-16],\n",
              "       [ 0.00000000e+00, -2.22044605e-16,  1.00000000e+00,\n",
              "        -2.22044605e-16],\n",
              "       [ 2.22044605e-16,  2.77555756e-16,  1.66533454e-16,\n",
              "         1.00000000e+00]])"
            ]
          },
          "metadata": {},
          "execution_count": 134
        }
      ]
    },
    {
      "cell_type": "code",
      "source": [
        "matrix_F=np.random.randint(10,size=(4,3))\n",
        "matrix_G=np.random.randint(10,size=(3,4))\n",
        "print(matrix_F,\"\\n..........\\n\",matrix_G)"
      ],
      "metadata": {
        "colab": {
          "base_uri": "https://localhost:8080/"
        },
        "id": "CQgbxvZN-B0G",
        "outputId": "d87c9301-2350-4ed8-9a88-025bd4f29a4c"
      },
      "execution_count": 135,
      "outputs": [
        {
          "output_type": "stream",
          "name": "stdout",
          "text": [
            "[[6 9 9]\n",
            " [5 2 2]\n",
            " [9 5 6]\n",
            " [8 4 7]] \n",
            "..........\n",
            " [[9 2 5 7]\n",
            " [6 2 9 2]\n",
            " [7 4 9 4]]\n"
          ]
        }
      ]
    },
    {
      "cell_type": "code",
      "source": [
        "np.dot(matrix_F,matrix_G)"
      ],
      "metadata": {
        "colab": {
          "base_uri": "https://localhost:8080/"
        },
        "id": "hdlDExFO-rW0",
        "outputId": "5f1d3a94-2cfb-4104-fae5-de6b0529bab6"
      },
      "execution_count": 136,
      "outputs": [
        {
          "output_type": "execute_result",
          "data": {
            "text/plain": [
              "array([[171,  66, 192,  96],\n",
              "       [ 71,  22,  61,  47],\n",
              "       [153,  52, 144,  97],\n",
              "       [145,  52, 139,  92]])"
            ]
          },
          "metadata": {},
          "execution_count": 136
        }
      ]
    },
    {
      "cell_type": "code",
      "source": [
        "vector_3=np.random.randint(1,10,4)\n",
        "vector_3"
      ],
      "metadata": {
        "colab": {
          "base_uri": "https://localhost:8080/"
        },
        "id": "6rRiRiRb_DPE",
        "outputId": "7425f452-e457-4640-a516-b7e66aa9c397"
      },
      "execution_count": 137,
      "outputs": [
        {
          "output_type": "execute_result",
          "data": {
            "text/plain": [
              "array([3, 6, 2, 5])"
            ]
          },
          "metadata": {},
          "execution_count": 137
        }
      ]
    },
    {
      "cell_type": "code",
      "source": [
        "np.vdot(vector_3,matrix_A)"
      ],
      "metadata": {
        "colab": {
          "base_uri": "https://localhost:8080/"
        },
        "id": "SeL2xkbW_2hL",
        "outputId": "8c22c047-b8c1-4fe9-cd43-fd86854defb4"
      },
      "execution_count": 138,
      "outputs": [
        {
          "output_type": "execute_result",
          "data": {
            "text/plain": [
              "92"
            ]
          },
          "metadata": {},
          "execution_count": 138
        }
      ]
    },
    {
      "cell_type": "code",
      "source": [
        "np.matmul(matrix_A,matrix_B)"
      ],
      "metadata": {
        "colab": {
          "base_uri": "https://localhost:8080/"
        },
        "id": "pCKD_md5AFfn",
        "outputId": "5ad30c89-b65e-46a0-cd97-834729c3db98"
      },
      "execution_count": 139,
      "outputs": [
        {
          "output_type": "execute_result",
          "data": {
            "text/plain": [
              "matrix([[54, 36],\n",
              "        [54, 36]])"
            ]
          },
          "metadata": {},
          "execution_count": 139
        }
      ]
    },
    {
      "cell_type": "code",
      "source": [
        "matrix_Det=np.matrix(np.random.randint(10,size=(2,2)))\n",
        "matrix_Det"
      ],
      "metadata": {
        "colab": {
          "base_uri": "https://localhost:8080/"
        },
        "id": "XEv613wqB2I4",
        "outputId": "07c7de3b-da40-4322-9211-f6b24fa788e6"
      },
      "execution_count": 140,
      "outputs": [
        {
          "output_type": "execute_result",
          "data": {
            "text/plain": [
              "matrix([[1, 9],\n",
              "        [1, 4]])"
            ]
          },
          "metadata": {},
          "execution_count": 140
        }
      ]
    },
    {
      "cell_type": "code",
      "source": [
        "np.linalg.det(matrix_Det)"
      ],
      "metadata": {
        "colab": {
          "base_uri": "https://localhost:8080/"
        },
        "id": "e5ErbL2XC0fP",
        "outputId": "e700cb24-302b-4039-b4ed-c4ae904ac9cd"
      },
      "execution_count": 141,
      "outputs": [
        {
          "output_type": "execute_result",
          "data": {
            "text/plain": [
              "-4.999999999999999"
            ]
          },
          "metadata": {},
          "execution_count": 141
        }
      ]
    },
    {
      "cell_type": "code",
      "source": [
        "import numexpr as ne\n",
        "vector_4=np.random.randint(1,1000000,1500000)\n",
        "vector_5=np.random.randint(1,1000000,1500000)"
      ],
      "metadata": {
        "id": "gv4nUj2uC9S4"
      },
      "execution_count": 142,
      "outputs": []
    },
    {
      "cell_type": "code",
      "source": [
        "%%timeit -n200 -r10\n",
        "vector_3=vector_4+1"
      ],
      "metadata": {
        "colab": {
          "base_uri": "https://localhost:8080/"
        },
        "id": "DC3LL9GfD80_",
        "outputId": "6bf0fbf6-fa05-4a10-85cb-20b758c65f5d"
      },
      "execution_count": 143,
      "outputs": [
        {
          "output_type": "stream",
          "name": "stdout",
          "text": [
            "200 loops, best of 10: 2.08 ms per loop\n"
          ]
        }
      ]
    },
    {
      "cell_type": "code",
      "source": [
        "%%timeit -n200 -r10\n",
        "vector_3=ne.evaluate(\"vector_4+1\")\n"
      ],
      "metadata": {
        "colab": {
          "base_uri": "https://localhost:8080/"
        },
        "id": "Y_at6VstEhJo",
        "outputId": "f99803a6-fb57-42b6-bcf7-77a9a9e0edbc"
      },
      "execution_count": 144,
      "outputs": [
        {
          "output_type": "stream",
          "name": "stdout",
          "text": [
            "200 loops, best of 10: 2.12 ms per loop\n"
          ]
        }
      ]
    },
    {
      "cell_type": "code",
      "source": [
        "%%timeit -n200 -r10\n",
        "vector_6=5*vector_4+2*vector_5"
      ],
      "metadata": {
        "colab": {
          "base_uri": "https://localhost:8080/"
        },
        "id": "8K25YT7UE9sb",
        "outputId": "df28f38c-f441-4818-ccee-e078ea171177"
      },
      "execution_count": 145,
      "outputs": [
        {
          "output_type": "stream",
          "name": "stdout",
          "text": [
            "200 loops, best of 10: 7.68 ms per loop\n"
          ]
        }
      ]
    },
    {
      "cell_type": "code",
      "source": [
        "%%timeit -n200 -r10\n",
        "vector_6=ne.evaluate(\"5*vector_4+2*vector_5\")"
      ],
      "metadata": {
        "colab": {
          "base_uri": "https://localhost:8080/"
        },
        "id": "LUMcmk4sFdkc",
        "outputId": "88965792-3100-4588-e2b7-fae911602eda"
      },
      "execution_count": 151,
      "outputs": [
        {
          "output_type": "stream",
          "name": "stdout",
          "text": [
            "200 loops, best of 10: 4.84 ms per loop\n"
          ]
        }
      ]
    }
  ]
}