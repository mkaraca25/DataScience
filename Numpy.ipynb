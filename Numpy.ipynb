{
  "nbformat": 4,
  "nbformat_minor": 0,
  "metadata": {
    "colab": {
      "name": "Numpy.ipynb",
      "provenance": [],
      "collapsed_sections": [],
      "authorship_tag": "ABX9TyPM8CL08WG9+OUvVUYExhZ/",
      "include_colab_link": true
    },
    "kernelspec": {
      "name": "python3",
      "display_name": "Python 3"
    },
    "language_info": {
      "name": "python"
    }
  },
  "cells": [
    {
      "cell_type": "markdown",
      "metadata": {
        "id": "view-in-github",
        "colab_type": "text"
      },
      "source": [
        "<a href=\"https://colab.research.google.com/github/mkaraca25/DataScience/blob/main/Numpy.ipynb\" target=\"_parent\"><img src=\"https://colab.research.google.com/assets/colab-badge.svg\" alt=\"Open In Colab\"/></a>"
      ]
    },
    {
      "cell_type": "markdown",
      "source": [
        "# NUMPY"
      ],
      "metadata": {
        "id": "naimSg8tNQo2"
      }
    },
    {
      "cell_type": "code",
      "execution_count": 2,
      "metadata": {
        "id": "wEyfA-QKvZe9"
      },
      "outputs": [],
      "source": [
        "import numpy as np"
      ]
    },
    {
      "cell_type": "code",
      "source": [
        "N_Array=np.array([[1,2,3],[4,5,6]])\n",
        "type(N_Array)\n",
        "N_Array\n",
        "N_Array_1=np.array([[2,4,6],[89,8,15]])\n",
        "Integers=np.array([[1,2,3,4],[5,6,7,13]])\n",
        "Integers"
      ],
      "metadata": {
        "id": "f4DK7wCXz6wZ"
      },
      "execution_count": 19,
      "outputs": []
    },
    {
      "cell_type": "code",
      "source": [
        "Floats=np.array([0.,0.10,0.12,0.3,0.5,0.63])\n",
        "Floats"
      ],
      "metadata": {
        "colab": {
          "base_uri": "https://localhost:8080/"
        },
        "id": "FmRI8mqkXuij",
        "outputId": "78ae98d6-e61b-44d0-fc34-395e50dc6551"
      },
      "execution_count": 21,
      "outputs": [
        {
          "output_type": "execute_result",
          "data": {
            "text/plain": [
              "array([0.  , 0.1 , 0.12, 0.3 , 0.5 , 0.63])"
            ]
          },
          "metadata": {},
          "execution_count": 21
        }
      ]
    },
    {
      "cell_type": "code",
      "source": [
        "Integers.ndim"
      ],
      "metadata": {
        "colab": {
          "base_uri": "https://localhost:8080/"
        },
        "id": "cTCJxg6mY3v-",
        "outputId": "5ce74feb-76ad-444b-ef89-fd67d7b084a2"
      },
      "execution_count": 22,
      "outputs": [
        {
          "output_type": "execute_result",
          "data": {
            "text/plain": [
              "2"
            ]
          },
          "metadata": {},
          "execution_count": 22
        }
      ]
    },
    {
      "cell_type": "code",
      "source": [
        "Integers.shape  #how many matrix(format)\n",
        "Integers.size"
      ],
      "metadata": {
        "colab": {
          "base_uri": "https://localhost:8080/"
        },
        "id": "4L25eY_XZg-M",
        "outputId": "2c63ee70-678e-4c62-a0b1-b32ec63d33ec"
      },
      "execution_count": 24,
      "outputs": [
        {
          "output_type": "execute_result",
          "data": {
            "text/plain": [
              "8"
            ]
          },
          "metadata": {},
          "execution_count": 24
        }
      ]
    },
    {
      "cell_type": "code",
      "source": [
        "for row in Integers:\n",
        "  print(row)"
      ],
      "metadata": {
        "colab": {
          "base_uri": "https://localhost:8080/"
        },
        "id": "jIoGoZ9KZnaW",
        "outputId": "abe9aa03-d4ef-44ec-bb27-100f44e6caba"
      },
      "execution_count": 25,
      "outputs": [
        {
          "output_type": "stream",
          "name": "stdout",
          "text": [
            "[1 2 3 4]\n",
            "[ 5  6  7 13]\n"
          ]
        }
      ]
    },
    {
      "cell_type": "code",
      "source": [
        "for row in Integers.flat:  #print the matrix side by side\n",
        "  print(row,end=\"\")"
      ],
      "metadata": {
        "colab": {
          "base_uri": "https://localhost:8080/"
        },
        "id": "8HdvLQXWaXFs",
        "outputId": "845583cf-32b9-41ca-b808-8752842c3b78"
      },
      "execution_count": 27,
      "outputs": [
        {
          "output_type": "stream",
          "name": "stdout",
          "text": [
            "123456713"
          ]
        }
      ]
    },
    {
      "cell_type": "code",
      "source": [
        "for row in Integers.flat:\n",
        "  print(row)"
      ],
      "metadata": {
        "colab": {
          "base_uri": "https://localhost:8080/"
        },
        "id": "NH66_2AWafbO",
        "outputId": "f48ff51c-ee87-41c9-a403-7ac967592f54"
      },
      "execution_count": 28,
      "outputs": [
        {
          "output_type": "stream",
          "name": "stdout",
          "text": [
            "1\n",
            "2\n",
            "3\n",
            "4\n",
            "5\n",
            "6\n",
            "7\n",
            "13\n"
          ]
        }
      ]
    },
    {
      "cell_type": "code",
      "source": [
        "np.zeros(5)"
      ],
      "metadata": {
        "colab": {
          "base_uri": "https://localhost:8080/"
        },
        "id": "uD_7ofxWbFw5",
        "outputId": "cf147e7d-0638-4029-eef2-11aa534f11e6"
      },
      "execution_count": 29,
      "outputs": [
        {
          "output_type": "execute_result",
          "data": {
            "text/plain": [
              "array([0., 0., 0., 0., 0.])"
            ]
          },
          "metadata": {},
          "execution_count": 29
        }
      ]
    },
    {
      "cell_type": "code",
      "source": [
        "np.ones((3,4),dtype=int)"
      ],
      "metadata": {
        "colab": {
          "base_uri": "https://localhost:8080/"
        },
        "id": "o3xA7CDZba8D",
        "outputId": "7e97d224-0733-41a5-8b48-ae3b5b42bf01"
      },
      "execution_count": 33,
      "outputs": [
        {
          "output_type": "execute_result",
          "data": {
            "text/plain": [
              "array([[1, 1, 1, 1],\n",
              "       [1, 1, 1, 1],\n",
              "       [1, 1, 1, 1]])"
            ]
          },
          "metadata": {},
          "execution_count": 33
        }
      ]
    },
    {
      "cell_type": "code",
      "source": [
        "np.full((3,5),13)"
      ],
      "metadata": {
        "colab": {
          "base_uri": "https://localhost:8080/"
        },
        "id": "i_R2uTblbsf4",
        "outputId": "7f6c41b8-85d9-440a-f6f3-190ed42b9c94"
      },
      "execution_count": 34,
      "outputs": [
        {
          "output_type": "execute_result",
          "data": {
            "text/plain": [
              "array([[13, 13, 13, 13, 13],\n",
              "       [13, 13, 13, 13, 13],\n",
              "       [13, 13, 13, 13, 13]])"
            ]
          },
          "metadata": {},
          "execution_count": 34
        }
      ]
    },
    {
      "cell_type": "code",
      "source": [
        "np.arange(10)"
      ],
      "metadata": {
        "colab": {
          "base_uri": "https://localhost:8080/"
        },
        "id": "9btYMUlYb-Ss",
        "outputId": "55fa3ef0-54ba-4113-fa1c-aefcb6fad6d0"
      },
      "execution_count": 36,
      "outputs": [
        {
          "output_type": "execute_result",
          "data": {
            "text/plain": [
              "array([0, 1, 2, 3, 4, 5, 6, 7, 8, 9])"
            ]
          },
          "metadata": {},
          "execution_count": 36
        }
      ]
    },
    {
      "cell_type": "code",
      "source": [
        "np.arange(3,8)"
      ],
      "metadata": {
        "colab": {
          "base_uri": "https://localhost:8080/"
        },
        "id": "Vfra8ldBcDef",
        "outputId": "c0dee4f8-3333-4a12-8cbc-0b496b8830f9"
      },
      "execution_count": 37,
      "outputs": [
        {
          "output_type": "execute_result",
          "data": {
            "text/plain": [
              "array([3, 4, 5, 6, 7])"
            ]
          },
          "metadata": {},
          "execution_count": 37
        }
      ]
    },
    {
      "cell_type": "code",
      "source": [
        "np.arange(20,1,-3)"
      ],
      "metadata": {
        "colab": {
          "base_uri": "https://localhost:8080/"
        },
        "id": "zhxpOoyjcLvO",
        "outputId": "98c12377-b00a-4b04-a70d-e40e2d7456a4"
      },
      "execution_count": 38,
      "outputs": [
        {
          "output_type": "execute_result",
          "data": {
            "text/plain": [
              "array([20, 17, 14, 11,  8,  5,  2])"
            ]
          },
          "metadata": {},
          "execution_count": 38
        }
      ]
    },
    {
      "cell_type": "code",
      "source": [
        "np.linspace(0,50)"
      ],
      "metadata": {
        "colab": {
          "base_uri": "https://localhost:8080/"
        },
        "id": "okY34NkVcReQ",
        "outputId": "cfca50ce-b568-4940-c451-482169ac2464"
      },
      "execution_count": 39,
      "outputs": [
        {
          "output_type": "execute_result",
          "data": {
            "text/plain": [
              "array([ 0.        ,  1.02040816,  2.04081633,  3.06122449,  4.08163265,\n",
              "        5.10204082,  6.12244898,  7.14285714,  8.16326531,  9.18367347,\n",
              "       10.20408163, 11.2244898 , 12.24489796, 13.26530612, 14.28571429,\n",
              "       15.30612245, 16.32653061, 17.34693878, 18.36734694, 19.3877551 ,\n",
              "       20.40816327, 21.42857143, 22.44897959, 23.46938776, 24.48979592,\n",
              "       25.51020408, 26.53061224, 27.55102041, 28.57142857, 29.59183673,\n",
              "       30.6122449 , 31.63265306, 32.65306122, 33.67346939, 34.69387755,\n",
              "       35.71428571, 36.73469388, 37.75510204, 38.7755102 , 39.79591837,\n",
              "       40.81632653, 41.83673469, 42.85714286, 43.87755102, 44.89795918,\n",
              "       45.91836735, 46.93877551, 47.95918367, 48.97959184, 50.        ])"
            ]
          },
          "metadata": {},
          "execution_count": 39
        }
      ]
    },
    {
      "cell_type": "code",
      "source": [
        "np.linspace(0,50,num=5)"
      ],
      "metadata": {
        "colab": {
          "base_uri": "https://localhost:8080/"
        },
        "id": "et0L5cX2cWzV",
        "outputId": "62150297-c25b-43b7-d43a-0031e2e0adc5"
      },
      "execution_count": 40,
      "outputs": [
        {
          "output_type": "execute_result",
          "data": {
            "text/plain": [
              "array([ 0. , 12.5, 25. , 37.5, 50. ])"
            ]
          },
          "metadata": {},
          "execution_count": 40
        }
      ]
    },
    {
      "cell_type": "code",
      "source": [
        "np.arange(1,31).reshape(5,6)"
      ],
      "metadata": {
        "colab": {
          "base_uri": "https://localhost:8080/"
        },
        "id": "HoqdTMZ8ch_R",
        "outputId": "8501c5d0-caea-42ab-e951-2f2159aebe2a"
      },
      "execution_count": 41,
      "outputs": [
        {
          "output_type": "execute_result",
          "data": {
            "text/plain": [
              "array([[ 1,  2,  3,  4,  5,  6],\n",
              "       [ 7,  8,  9, 10, 11, 12],\n",
              "       [13, 14, 15, 16, 17, 18],\n",
              "       [19, 20, 21, 22, 23, 24],\n",
              "       [25, 26, 27, 28, 29, 30]])"
            ]
          },
          "metadata": {},
          "execution_count": 41
        }
      ]
    },
    {
      "cell_type": "code",
      "source": [
        "np.random.randint(1,20,6)"
      ],
      "metadata": {
        "colab": {
          "base_uri": "https://localhost:8080/"
        },
        "id": "ypOzyqYycwe8",
        "outputId": "8e3de406-d877-4520-c055-c521be212470"
      },
      "execution_count": 44,
      "outputs": [
        {
          "output_type": "execute_result",
          "data": {
            "text/plain": [
              "array([ 3, 10,  1,  9,  5, 11])"
            ]
          },
          "metadata": {},
          "execution_count": 44
        }
      ]
    },
    {
      "cell_type": "code",
      "source": [
        "Rand_Array=np.random.randint(1,100,15)"
      ],
      "metadata": {
        "id": "_kxXzKB8c8XV"
      },
      "execution_count": 45,
      "outputs": []
    },
    {
      "cell_type": "code",
      "source": [
        "Rand_Array"
      ],
      "metadata": {
        "colab": {
          "base_uri": "https://localhost:8080/"
        },
        "id": "nhf6Gys1dSyw",
        "outputId": "cc5711e2-5c65-41c6-e8b1-2b8f34de38c3"
      },
      "execution_count": 46,
      "outputs": [
        {
          "output_type": "execute_result",
          "data": {
            "text/plain": [
              "array([41,  9, 88, 43, 79, 23, 68, 39, 50, 90, 94, 33, 56, 83, 86])"
            ]
          },
          "metadata": {},
          "execution_count": 46
        }
      ]
    },
    {
      "cell_type": "code",
      "source": [
        "Rand_Array.max()"
      ],
      "metadata": {
        "colab": {
          "base_uri": "https://localhost:8080/"
        },
        "id": "oum3B2BndXdC",
        "outputId": "a74c5848-b635-4b19-f4e1-1facb99b5047"
      },
      "execution_count": 48,
      "outputs": [
        {
          "output_type": "execute_result",
          "data": {
            "text/plain": [
              "94"
            ]
          },
          "metadata": {},
          "execution_count": 48
        }
      ]
    },
    {
      "cell_type": "code",
      "source": [
        "Rand_Array.min()"
      ],
      "metadata": {
        "colab": {
          "base_uri": "https://localhost:8080/"
        },
        "id": "JXULBVxudbBt",
        "outputId": "74c5f390-abc9-41b5-bc5f-4cb2bc2aad19"
      },
      "execution_count": 49,
      "outputs": [
        {
          "output_type": "execute_result",
          "data": {
            "text/plain": [
              "9"
            ]
          },
          "metadata": {},
          "execution_count": 49
        }
      ]
    },
    {
      "cell_type": "code",
      "source": [
        "Rand_Array.mean()"
      ],
      "metadata": {
        "colab": {
          "base_uri": "https://localhost:8080/"
        },
        "id": "HI3Pqs2LdgPm",
        "outputId": "4a527d3d-7c02-45bc-df9c-5932c1e5809c"
      },
      "execution_count": 50,
      "outputs": [
        {
          "output_type": "execute_result",
          "data": {
            "text/plain": [
              "58.8"
            ]
          },
          "metadata": {},
          "execution_count": 50
        }
      ]
    },
    {
      "cell_type": "code",
      "source": [
        "Rand_Array.std()"
      ],
      "metadata": {
        "colab": {
          "base_uri": "https://localhost:8080/"
        },
        "id": "B27YUca1dj6f",
        "outputId": "b170b207-6042-4a1f-96d3-0aba5b4d8039"
      },
      "execution_count": 51,
      "outputs": [
        {
          "output_type": "execute_result",
          "data": {
            "text/plain": [
              "26.273433984413483"
            ]
          },
          "metadata": {},
          "execution_count": 51
        }
      ]
    },
    {
      "cell_type": "code",
      "source": [
        "Numbers_1=np.arange(1,10,2)\n",
        "Numbers_Rand=np.random.randint(1,20,5)"
      ],
      "metadata": {
        "id": "Xlq9yWEHdqIW"
      },
      "execution_count": 52,
      "outputs": []
    },
    {
      "cell_type": "code",
      "source": [
        "Numbers_1"
      ],
      "metadata": {
        "colab": {
          "base_uri": "https://localhost:8080/"
        },
        "id": "EmZVpYwxp5Lb",
        "outputId": "7a3f849d-adbb-4aa7-a2b0-2a7c8be4e56d"
      },
      "execution_count": 53,
      "outputs": [
        {
          "output_type": "execute_result",
          "data": {
            "text/plain": [
              "array([1, 3, 5, 7, 9])"
            ]
          },
          "metadata": {},
          "execution_count": 53
        }
      ]
    },
    {
      "cell_type": "code",
      "source": [
        "Numbers_Rand"
      ],
      "metadata": {
        "colab": {
          "base_uri": "https://localhost:8080/"
        },
        "id": "qFTip-XMp6n8",
        "outputId": "e6197b3d-598f-403f-b799-9ec85df0def7"
      },
      "execution_count": 54,
      "outputs": [
        {
          "output_type": "execute_result",
          "data": {
            "text/plain": [
              "array([11,  1,  7, 10, 13])"
            ]
          },
          "metadata": {},
          "execution_count": 54
        }
      ]
    },
    {
      "cell_type": "code",
      "source": [
        "Numbers_1+Numbers_Rand"
      ],
      "metadata": {
        "colab": {
          "base_uri": "https://localhost:8080/"
        },
        "id": "uBl4BwrWp-bc",
        "outputId": "c89e4808-5366-4b9e-958b-4e2435dcf638"
      },
      "execution_count": 55,
      "outputs": [
        {
          "output_type": "execute_result",
          "data": {
            "text/plain": [
              "array([12,  4, 12, 17, 22])"
            ]
          },
          "metadata": {},
          "execution_count": 55
        }
      ]
    },
    {
      "cell_type": "code",
      "source": [
        "Numbers_1*Numbers_Rand"
      ],
      "metadata": {
        "colab": {
          "base_uri": "https://localhost:8080/"
        },
        "id": "d35-XBHWqDGS",
        "outputId": "f91adef8-04c0-4c3a-87e4-9b94b0e0c07e"
      },
      "execution_count": 58,
      "outputs": [
        {
          "output_type": "execute_result",
          "data": {
            "text/plain": [
              "array([ 11,   3,  35,  70, 117])"
            ]
          },
          "metadata": {},
          "execution_count": 58
        }
      ]
    },
    {
      "cell_type": "code",
      "source": [
        "Numbers_1/3"
      ],
      "metadata": {
        "colab": {
          "base_uri": "https://localhost:8080/"
        },
        "id": "DxGykQKtzZeQ",
        "outputId": "18b0af6c-d0bf-45c7-a4a4-71d83da9a50f"
      },
      "execution_count": 59,
      "outputs": [
        {
          "output_type": "execute_result",
          "data": {
            "text/plain": [
              "array([0.33333333, 1.        , 1.66666667, 2.33333333, 3.        ])"
            ]
          },
          "metadata": {},
          "execution_count": 59
        }
      ]
    },
    {
      "cell_type": "code",
      "source": [
        "Numbers_1+=5"
      ],
      "metadata": {
        "id": "QVXcDPNm0LYX"
      },
      "execution_count": 60,
      "outputs": []
    },
    {
      "cell_type": "code",
      "source": [
        "Numbers_1"
      ],
      "metadata": {
        "colab": {
          "base_uri": "https://localhost:8080/"
        },
        "id": "oxHAdck20Pf7",
        "outputId": "01f63e7e-2c39-457d-eb59-ad43ac66dc37"
      },
      "execution_count": 61,
      "outputs": [
        {
          "output_type": "execute_result",
          "data": {
            "text/plain": [
              "array([ 6,  8, 10, 12, 14])"
            ]
          },
          "metadata": {},
          "execution_count": 61
        }
      ]
    },
    {
      "cell_type": "code",
      "source": [
        "Numbers_Rand+=3"
      ],
      "metadata": {
        "id": "d-oAhx0S0SlG"
      },
      "execution_count": 62,
      "outputs": []
    },
    {
      "cell_type": "code",
      "source": [
        "np.sqrt(Numbers_1)"
      ],
      "metadata": {
        "colab": {
          "base_uri": "https://localhost:8080/"
        },
        "id": "zHwupstu0YPL",
        "outputId": "2259b913-7758-4883-ed92-2d703a076423"
      },
      "execution_count": 63,
      "outputs": [
        {
          "output_type": "execute_result",
          "data": {
            "text/plain": [
              "array([2.44948974, 2.82842712, 3.16227766, 3.46410162, 3.74165739])"
            ]
          },
          "metadata": {},
          "execution_count": 63
        }
      ]
    },
    {
      "cell_type": "code",
      "source": [
        "s_1=np.arange(1,10,2)\n",
        "s_2=np.arange(1,11,3)"
      ],
      "metadata": {
        "id": "s-yZLMsR0dOd"
      },
      "execution_count": 64,
      "outputs": []
    },
    {
      "cell_type": "code",
      "source": [
        "s_1"
      ],
      "metadata": {
        "colab": {
          "base_uri": "https://localhost:8080/"
        },
        "id": "8B-6g4z00uZa",
        "outputId": "420c8c13-820f-4245-ba6b-6a3da5e5a378"
      },
      "execution_count": 65,
      "outputs": [
        {
          "output_type": "execute_result",
          "data": {
            "text/plain": [
              "array([1, 3, 5, 7, 9])"
            ]
          },
          "metadata": {},
          "execution_count": 65
        }
      ]
    },
    {
      "cell_type": "code",
      "source": [
        "array_1=np.random.randint(1,500,15)"
      ],
      "metadata": {
        "id": "ARgZ41da0xN0"
      },
      "execution_count": 66,
      "outputs": []
    },
    {
      "cell_type": "code",
      "source": [
        "array_1"
      ],
      "metadata": {
        "colab": {
          "base_uri": "https://localhost:8080/"
        },
        "id": "bt4CUoaW1UPq",
        "outputId": "96e1daee-f813-4bbb-ebf3-a1bb824c906d"
      },
      "execution_count": 85,
      "outputs": [
        {
          "output_type": "execute_result",
          "data": {
            "text/plain": [
              "array([485, 471, 359, 338, 315,  83, 246, 345, 150,  62, 354, 171,  23,\n",
              "       275, 119])"
            ]
          },
          "metadata": {},
          "execution_count": 85
        }
      ]
    },
    {
      "cell_type": "code",
      "source": [
        "array_2=array_1.reshape(3,5)"
      ],
      "metadata": {
        "id": "LyYbWLXz1bZ_"
      },
      "execution_count": 86,
      "outputs": []
    },
    {
      "cell_type": "code",
      "source": [
        "array_2"
      ],
      "metadata": {
        "colab": {
          "base_uri": "https://localhost:8080/"
        },
        "id": "JUjaUu_P1bPa",
        "outputId": "d91a68c7-554a-42bc-a654-45994cf38565"
      },
      "execution_count": 87,
      "outputs": [
        {
          "output_type": "execute_result",
          "data": {
            "text/plain": [
              "array([[485, 471, 359, 338, 315],\n",
              "       [ 83, 246, 345, 150,  62],\n",
              "       [354, 171,  23, 275, 119]])"
            ]
          },
          "metadata": {},
          "execution_count": 87
        }
      ]
    },
    {
      "cell_type": "code",
      "source": [
        "index_value=np.argpartition(array_1,-5)[-5:]"
      ],
      "metadata": {
        "id": "yuya-GnH1bEs"
      },
      "execution_count": 92,
      "outputs": []
    },
    {
      "cell_type": "code",
      "source": [
        "index_value"
      ],
      "metadata": {
        "colab": {
          "base_uri": "https://localhost:8080/"
        },
        "id": "7N-YnPNn1a5b",
        "outputId": "23ab61f7-1cde-4d92-8ab1-7b996ec75986"
      },
      "execution_count": 95,
      "outputs": [
        {
          "output_type": "execute_result",
          "data": {
            "text/plain": [
              "array([ 7, 10,  1,  2,  0])"
            ]
          },
          "metadata": {},
          "execution_count": 95
        }
      ]
    },
    {
      "cell_type": "code",
      "source": [
        "np.sort(array_1[index_value])"
      ],
      "metadata": {
        "colab": {
          "base_uri": "https://localhost:8080/"
        },
        "id": "YwE9ygIr4eyN",
        "outputId": "956e2a61-0138-4187-9cb1-b751166cc776"
      },
      "execution_count": 96,
      "outputs": [
        {
          "output_type": "execute_result",
          "data": {
            "text/plain": [
              "array([345, 354, 359, 471, 485])"
            ]
          },
          "metadata": {},
          "execution_count": 96
        }
      ]
    },
    {
      "cell_type": "code",
      "source": [
        "index_value2=np.argpartition(array_2,-3,axis=0)[-5:]"
      ],
      "metadata": {
        "id": "FKK7ZC034mOE"
      },
      "execution_count": 117,
      "outputs": []
    },
    {
      "cell_type": "code",
      "source": [
        "index_value2"
      ],
      "metadata": {
        "colab": {
          "base_uri": "https://localhost:8080/"
        },
        "id": "FxkgpBXR40mg",
        "outputId": "d62c8d97-f5bc-444c-f007-117ecc62e46c"
      },
      "execution_count": 118,
      "outputs": [
        {
          "output_type": "execute_result",
          "data": {
            "text/plain": [
              "array([[1, 2, 2, 1, 1],\n",
              "       [0, 1, 1, 0, 0],\n",
              "       [2, 0, 0, 2, 2]])"
            ]
          },
          "metadata": {},
          "execution_count": 118
        }
      ]
    },
    {
      "cell_type": "code",
      "source": [
        "np.sort(array_2[index_value2])"
      ],
      "metadata": {
        "colab": {
          "base_uri": "https://localhost:8080/"
        },
        "id": "ypFfJNYi42cb",
        "outputId": "c8eab467-3673-4101-e2f0-9754fdca65fb"
      },
      "execution_count": 119,
      "outputs": [
        {
          "output_type": "execute_result",
          "data": {
            "text/plain": [
              "array([[[ 62,  83, 150, 246, 345],\n",
              "        [ 23, 119, 171, 275, 354],\n",
              "        [ 23, 119, 171, 275, 354],\n",
              "        [ 62,  83, 150, 246, 345],\n",
              "        [ 62,  83, 150, 246, 345]],\n",
              "\n",
              "       [[315, 338, 359, 471, 485],\n",
              "        [ 62,  83, 150, 246, 345],\n",
              "        [ 62,  83, 150, 246, 345],\n",
              "        [315, 338, 359, 471, 485],\n",
              "        [315, 338, 359, 471, 485]],\n",
              "\n",
              "       [[ 23, 119, 171, 275, 354],\n",
              "        [315, 338, 359, 471, 485],\n",
              "        [315, 338, 359, 471, 485],\n",
              "        [ 23, 119, 171, 275, 354],\n",
              "        [ 23, 119, 171, 275, 354]]])"
            ]
          },
          "metadata": {},
          "execution_count": 119
        }
      ]
    },
    {
      "cell_type": "code",
      "source": [
        "index_value3=np.argpartition(array_2.ravel(),-5)[-5:]"
      ],
      "metadata": {
        "id": "YrYEIe6E5LYi"
      },
      "execution_count": 120,
      "outputs": []
    },
    {
      "cell_type": "code",
      "source": [
        "index_value3"
      ],
      "metadata": {
        "colab": {
          "base_uri": "https://localhost:8080/"
        },
        "id": "RkGwjvXB6ZRT",
        "outputId": "53f91da7-457a-4b11-f8d9-0c49d6bb7c1d"
      },
      "execution_count": 121,
      "outputs": [
        {
          "output_type": "execute_result",
          "data": {
            "text/plain": [
              "array([ 7, 10,  1,  2,  0])"
            ]
          },
          "metadata": {},
          "execution_count": 121
        }
      ]
    },
    {
      "cell_type": "code",
      "source": [
        "index_value"
      ],
      "metadata": {
        "colab": {
          "base_uri": "https://localhost:8080/"
        },
        "id": "e0SW9VL66bdc",
        "outputId": "7ff54e2f-ab23-47d0-a44a-268beaabc24a"
      },
      "execution_count": 122,
      "outputs": [
        {
          "output_type": "execute_result",
          "data": {
            "text/plain": [
              "array([ 7, 10,  1,  2,  0])"
            ]
          },
          "metadata": {},
          "execution_count": 122
        }
      ]
    },
    {
      "cell_type": "code",
      "source": [
        "array_1[index_value]"
      ],
      "metadata": {
        "colab": {
          "base_uri": "https://localhost:8080/"
        },
        "id": "Bogebsiq6fsC",
        "outputId": "4cb5c710-564d-4ff9-aa19-edf600ab519b"
      },
      "execution_count": 125,
      "outputs": [
        {
          "output_type": "execute_result",
          "data": {
            "text/plain": [
              "array([345, 354, 471, 359, 485])"
            ]
          },
          "metadata": {},
          "execution_count": 125
        }
      ]
    },
    {
      "cell_type": "code",
      "source": [
        "np.allclose(array_1,array_2.ravel(),0.1)"
      ],
      "metadata": {
        "colab": {
          "base_uri": "https://localhost:8080/"
        },
        "id": "yCBpIyZi6nCs",
        "outputId": "38a13e8d-062e-4726-82d8-25ff36a0a59c"
      },
      "execution_count": 127,
      "outputs": [
        {
          "output_type": "execute_result",
          "data": {
            "text/plain": [
              "True"
            ]
          },
          "metadata": {},
          "execution_count": 127
        }
      ]
    },
    {
      "cell_type": "code",
      "source": [
        "array_3=np.array([0.12,0.17,0.24,0.29,0.33])\n",
        "array_4=np.array([0.13,0.19,0.26,0.21,0.33])\n",
        "np.allclose(array_3,array_4,0.1)\n"
      ],
      "metadata": {
        "colab": {
          "base_uri": "https://localhost:8080/"
        },
        "id": "yBka8QL07YdT",
        "outputId": "bcdd178c-c7a6-4242-fcc3-3ef2b865c909"
      },
      "execution_count": 131,
      "outputs": [
        {
          "output_type": "execute_result",
          "data": {
            "text/plain": [
              "False"
            ]
          },
          "metadata": {},
          "execution_count": 131
        }
      ]
    },
    {
      "cell_type": "code",
      "source": [
        "np.allclose(array_3,array_4,0.4)"
      ],
      "metadata": {
        "colab": {
          "base_uri": "https://localhost:8080/"
        },
        "id": "KR_I16XH8OS_",
        "outputId": "c6c134dd-5371-4f70-b335-366c51f2b8af"
      },
      "execution_count": 140,
      "outputs": [
        {
          "output_type": "execute_result",
          "data": {
            "text/plain": [
              "True"
            ]
          },
          "metadata": {},
          "execution_count": 140
        }
      ]
    },
    {
      "cell_type": "code",
      "source": [
        "np.clip(array_1,100,250)"
      ],
      "metadata": {
        "colab": {
          "base_uri": "https://localhost:8080/"
        },
        "id": "6o-Lfjpz8Sx0",
        "outputId": "b1b6aa1a-048f-4687-c3af-bf7a0cd01aea"
      },
      "execution_count": 143,
      "outputs": [
        {
          "output_type": "execute_result",
          "data": {
            "text/plain": [
              "array([250, 250, 250, 250, 250, 100, 246, 250, 150, 100, 250, 171, 100,\n",
              "       250, 119])"
            ]
          },
          "metadata": {},
          "execution_count": 143
        }
      ]
    },
    {
      "cell_type": "code",
      "source": [
        "array_1"
      ],
      "metadata": {
        "colab": {
          "base_uri": "https://localhost:8080/"
        },
        "id": "j-skXcpI85mO",
        "outputId": "566a3af4-62a1-4b43-9890-3b00e1cc4df4"
      },
      "execution_count": 144,
      "outputs": [
        {
          "output_type": "execute_result",
          "data": {
            "text/plain": [
              "array([485, 471, 359, 338, 315,  83, 246, 345, 150,  62, 354, 171,  23,\n",
              "       275, 119])"
            ]
          },
          "metadata": {},
          "execution_count": 144
        }
      ]
    },
    {
      "cell_type": "code",
      "source": [
        "np.clip(array_2,100,250)"
      ],
      "metadata": {
        "colab": {
          "base_uri": "https://localhost:8080/"
        },
        "id": "dPVl9gfn9Boc",
        "outputId": "cef594ff-6f9f-4e39-df88-0cbfe4e91972"
      },
      "execution_count": 145,
      "outputs": [
        {
          "output_type": "execute_result",
          "data": {
            "text/plain": [
              "array([[250, 250, 250, 250, 250],\n",
              "       [100, 246, 250, 150, 100],\n",
              "       [250, 171, 100, 250, 119]])"
            ]
          },
          "metadata": {},
          "execution_count": 145
        }
      ]
    },
    {
      "cell_type": "code",
      "source": [
        "N_Array_1=np.random.randint(1,30,8)"
      ],
      "metadata": {
        "id": "LsB8-jek9JmA"
      },
      "execution_count": 149,
      "outputs": []
    },
    {
      "cell_type": "code",
      "source": [
        "N_Array_1"
      ],
      "metadata": {
        "colab": {
          "base_uri": "https://localhost:8080/"
        },
        "id": "mmKQI1A2NypY",
        "outputId": "e8183ae6-c30e-4815-dcd5-f6750baa2e05"
      },
      "execution_count": 150,
      "outputs": [
        {
          "output_type": "execute_result",
          "data": {
            "text/plain": [
              "array([12, 23, 14, 26, 24, 17,  3, 12])"
            ]
          },
          "metadata": {},
          "execution_count": 150
        }
      ]
    },
    {
      "cell_type": "code",
      "source": [
        "N_Array_1[3]"
      ],
      "metadata": {
        "colab": {
          "base_uri": "https://localhost:8080/"
        },
        "id": "F73yBKGPN1MK",
        "outputId": "50ab915e-f5de-426d-e691-1a4bf07a424f"
      },
      "execution_count": 152,
      "outputs": [
        {
          "output_type": "execute_result",
          "data": {
            "text/plain": [
              "26"
            ]
          },
          "metadata": {},
          "execution_count": 152
        }
      ]
    },
    {
      "cell_type": "code",
      "source": [
        "N_Array_1[2:7]"
      ],
      "metadata": {
        "colab": {
          "base_uri": "https://localhost:8080/"
        },
        "id": "lPunWRPHOFV9",
        "outputId": "8310df75-18f8-4626-e384-63ce20e8de41"
      },
      "execution_count": 153,
      "outputs": [
        {
          "output_type": "execute_result",
          "data": {
            "text/plain": [
              "array([14, 26, 24, 17,  3])"
            ]
          },
          "metadata": {},
          "execution_count": 153
        }
      ]
    },
    {
      "cell_type": "code",
      "source": [
        "N_Array_1[:3]"
      ],
      "metadata": {
        "colab": {
          "base_uri": "https://localhost:8080/"
        },
        "id": "WSPb3bA4OK5Y",
        "outputId": "d86ac4d6-7e5f-430f-c730-f3613c85d313"
      },
      "execution_count": 154,
      "outputs": [
        {
          "output_type": "execute_result",
          "data": {
            "text/plain": [
              "array([12, 23, 14])"
            ]
          },
          "metadata": {},
          "execution_count": 154
        }
      ]
    },
    {
      "cell_type": "code",
      "source": [
        "N_Array_2=np.arange(1,7)"
      ],
      "metadata": {
        "id": "jFfUePc3OQbt"
      },
      "execution_count": 155,
      "outputs": []
    },
    {
      "cell_type": "code",
      "source": [
        "N_Array_2[:3]=7"
      ],
      "metadata": {
        "id": "IqxJpmu_OW6W"
      },
      "execution_count": 157,
      "outputs": []
    },
    {
      "cell_type": "code",
      "source": [
        "N_Array_2"
      ],
      "metadata": {
        "colab": {
          "base_uri": "https://localhost:8080/"
        },
        "id": "Bv1qEc4LOYny",
        "outputId": "050e573c-7324-44c3-c583-f5b1454b04e7"
      },
      "execution_count": 158,
      "outputs": [
        {
          "output_type": "execute_result",
          "data": {
            "text/plain": [
              "array([7, 7, 7, 4, 5, 6])"
            ]
          },
          "metadata": {},
          "execution_count": 158
        }
      ]
    },
    {
      "cell_type": "code",
      "source": [
        "N_Array_3=np.random.randint(1,100,20)\n",
        "N_Array_3"
      ],
      "metadata": {
        "colab": {
          "base_uri": "https://localhost:8080/"
        },
        "id": "qJs0CVB4Oh4-",
        "outputId": "63032aa4-4f64-4627-ced8-3ebe3b137c49"
      },
      "execution_count": 160,
      "outputs": [
        {
          "output_type": "execute_result",
          "data": {
            "text/plain": [
              "array([83, 11,  5, 21, 60, 25, 31,  7, 48, 71, 87, 11, 29, 97, 66, 43, 90,\n",
              "        8, 35, 33])"
            ]
          },
          "metadata": {},
          "execution_count": 160
        }
      ]
    },
    {
      "cell_type": "code",
      "source": [
        "N_Array_3=N_Array_3.reshape(5,4)\n",
        "N_Array_3"
      ],
      "metadata": {
        "colab": {
          "base_uri": "https://localhost:8080/"
        },
        "id": "Hu5gj5K5Ov65",
        "outputId": "c52834a5-1925-4342-ba0a-846fa3786237"
      },
      "execution_count": 163,
      "outputs": [
        {
          "output_type": "execute_result",
          "data": {
            "text/plain": [
              "array([[83, 11,  5, 21],\n",
              "       [60, 25, 31,  7],\n",
              "       [48, 71, 87, 11],\n",
              "       [29, 97, 66, 43],\n",
              "       [90,  8, 35, 33]])"
            ]
          },
          "metadata": {},
          "execution_count": 163
        }
      ]
    },
    {
      "cell_type": "code",
      "source": [
        "N_Array_3[4][3]"
      ],
      "metadata": {
        "colab": {
          "base_uri": "https://localhost:8080/"
        },
        "id": "1Pulk9zgO52i",
        "outputId": "402f762a-d2d6-48db-91e6-4c54830978f2"
      },
      "execution_count": 165,
      "outputs": [
        {
          "output_type": "execute_result",
          "data": {
            "text/plain": [
              "33"
            ]
          },
          "metadata": {},
          "execution_count": 165
        }
      ]
    },
    {
      "cell_type": "code",
      "source": [
        "N_Array_3[:2]"
      ],
      "metadata": {
        "colab": {
          "base_uri": "https://localhost:8080/"
        },
        "id": "tff4Rx0MO9FW",
        "outputId": "036ed7e7-02f3-4180-9f9f-b67c8fcf5607"
      },
      "execution_count": 166,
      "outputs": [
        {
          "output_type": "execute_result",
          "data": {
            "text/plain": [
              "array([[83, 11,  5, 21],\n",
              "       [60, 25, 31,  7]])"
            ]
          },
          "metadata": {},
          "execution_count": 166
        }
      ]
    },
    {
      "cell_type": "code",
      "source": [
        "N_Array_3[:,2:4]"
      ],
      "metadata": {
        "colab": {
          "base_uri": "https://localhost:8080/"
        },
        "id": "utQ7shRcPULl",
        "outputId": "ce734454-dbb4-462b-c090-46d5b12aab34"
      },
      "execution_count": 171,
      "outputs": [
        {
          "output_type": "execute_result",
          "data": {
            "text/plain": [
              "array([[ 5, 21],\n",
              "       [31,  7],\n",
              "       [87, 11],\n",
              "       [66, 43],\n",
              "       [35, 33]])"
            ]
          },
          "metadata": {},
          "execution_count": 171
        }
      ]
    },
    {
      "cell_type": "code",
      "source": [
        "N_Array_3[:,(1,3)]"
      ],
      "metadata": {
        "colab": {
          "base_uri": "https://localhost:8080/"
        },
        "id": "_ZtQgbUFPdOY",
        "outputId": "81b1a1c9-4090-4610-95e4-f3c3aa3d5c8e"
      },
      "execution_count": 174,
      "outputs": [
        {
          "output_type": "execute_result",
          "data": {
            "text/plain": [
              "array([[11, 21],\n",
              "       [25,  7],\n",
              "       [71, 11],\n",
              "       [97, 43],\n",
              "       [ 8, 33]])"
            ]
          },
          "metadata": {},
          "execution_count": 174
        }
      ]
    },
    {
      "cell_type": "code",
      "source": [
        "N_Array_4=np.arange(1,7)\n",
        "N_Array_4_SC=N_Array_4.view()\n",
        "N_Array_4_SC[3]*=7\n",
        "N_Array_4_SC"
      ],
      "metadata": {
        "colab": {
          "base_uri": "https://localhost:8080/"
        },
        "id": "7l2ZRr2WP2Kq",
        "outputId": "82d623da-72ae-481d-e045-a68806daa547"
      },
      "execution_count": 182,
      "outputs": [
        {
          "output_type": "execute_result",
          "data": {
            "text/plain": [
              "array([ 1,  2,  3, 28,  5,  6])"
            ]
          },
          "metadata": {},
          "execution_count": 182
        }
      ]
    },
    {
      "cell_type": "code",
      "source": [
        "N_Array_4"
      ],
      "metadata": {
        "colab": {
          "base_uri": "https://localhost:8080/"
        },
        "id": "PO4tKMFOQMpQ",
        "outputId": "c3f46d29-98cc-4c1f-a837-e0bfc6c50607"
      },
      "execution_count": 190,
      "outputs": [
        {
          "output_type": "execute_result",
          "data": {
            "text/plain": [
              "array([ 1,  2,  3, 28,  5,  6])"
            ]
          },
          "metadata": {},
          "execution_count": 190
        }
      ]
    },
    {
      "cell_type": "code",
      "source": [
        "N_Array_4_SC"
      ],
      "metadata": {
        "colab": {
          "base_uri": "https://localhost:8080/"
        },
        "id": "Post_d6lRMOg",
        "outputId": "027f48cc-83e4-458b-95ca-9a75c92e1558"
      },
      "execution_count": 189,
      "outputs": [
        {
          "output_type": "execute_result",
          "data": {
            "text/plain": [
              "array([ 1,  2,  3, 28,  5,  6])"
            ]
          },
          "metadata": {},
          "execution_count": 189
        }
      ]
    },
    {
      "cell_type": "code",
      "source": [
        "N_Array_4_SC[2]+=5"
      ],
      "metadata": {
        "id": "7iGevkjpRYg6"
      },
      "execution_count": 191,
      "outputs": []
    },
    {
      "cell_type": "code",
      "source": [
        "N_Array_4"
      ],
      "metadata": {
        "colab": {
          "base_uri": "https://localhost:8080/"
        },
        "id": "LpFQPZvURgGX",
        "outputId": "9c5a624c-b8a8-436e-8493-39c7439a5a21"
      },
      "execution_count": 192,
      "outputs": [
        {
          "output_type": "execute_result",
          "data": {
            "text/plain": [
              "array([ 1,  2,  8, 28,  5,  6])"
            ]
          },
          "metadata": {},
          "execution_count": 192
        }
      ]
    },
    {
      "cell_type": "code",
      "source": [
        "N_Array_4_SC"
      ],
      "metadata": {
        "colab": {
          "base_uri": "https://localhost:8080/"
        },
        "id": "kDa5RFsfRnfT",
        "outputId": "f429b3ed-1327-4c50-e501-33dd5cb0dfcf"
      },
      "execution_count": 193,
      "outputs": [
        {
          "output_type": "execute_result",
          "data": {
            "text/plain": [
              "array([ 1,  2,  8, 28,  5,  6])"
            ]
          },
          "metadata": {},
          "execution_count": 193
        }
      ]
    },
    {
      "cell_type": "code",
      "source": [
        "N_Array_4_DC=N_Array_4.copy()\n",
        "N_Array_4_DC"
      ],
      "metadata": {
        "colab": {
          "base_uri": "https://localhost:8080/"
        },
        "id": "hwVQM_uURp9K",
        "outputId": "6407d96c-96eb-4242-abff-53e2b717aca5"
      },
      "execution_count": 195,
      "outputs": [
        {
          "output_type": "execute_result",
          "data": {
            "text/plain": [
              "array([ 1,  2,  8, 28,  5,  6])"
            ]
          },
          "metadata": {},
          "execution_count": 195
        }
      ]
    },
    {
      "cell_type": "code",
      "source": [
        "N_Array_4_DC[1]-=5"
      ],
      "metadata": {
        "id": "JcjWZ9m5R1wQ"
      },
      "execution_count": 196,
      "outputs": []
    },
    {
      "cell_type": "code",
      "source": [
        "N_Array_4_DC"
      ],
      "metadata": {
        "colab": {
          "base_uri": "https://localhost:8080/"
        },
        "id": "iXfl3NN0R_Te",
        "outputId": "e22a7416-c09f-4290-bc67-e73464abf867"
      },
      "execution_count": 197,
      "outputs": [
        {
          "output_type": "execute_result",
          "data": {
            "text/plain": [
              "array([ 1, -3,  8, 28,  5,  6])"
            ]
          },
          "metadata": {},
          "execution_count": 197
        }
      ]
    },
    {
      "cell_type": "code",
      "source": [
        "N_Array_4"
      ],
      "metadata": {
        "colab": {
          "base_uri": "https://localhost:8080/"
        },
        "id": "d_Q_xE85SA8r",
        "outputId": "d4db27cd-016f-4562-831b-68fdd98f051c"
      },
      "execution_count": 198,
      "outputs": [
        {
          "output_type": "execute_result",
          "data": {
            "text/plain": [
              "array([ 1,  2,  8, 28,  5,  6])"
            ]
          },
          "metadata": {},
          "execution_count": 198
        }
      ]
    },
    {
      "cell_type": "code",
      "source": [
        "Array_R_1=np.random.randint(1,150,20)\n",
        "Array_R_1"
      ],
      "metadata": {
        "colab": {
          "base_uri": "https://localhost:8080/"
        },
        "id": "E-PYX4NLTpzZ",
        "outputId": "d3dedd32-df56-48f0-e5d5-fb90bdf546c8"
      },
      "execution_count": 3,
      "outputs": [
        {
          "output_type": "execute_result",
          "data": {
            "text/plain": [
              "array([ 14, 113,   5,  72,  96,   2,  78, 142,  65, 144,  71,  41,  19,\n",
              "        41,  54,  72, 142, 116,  33,  12])"
            ]
          },
          "metadata": {},
          "execution_count": 3
        }
      ]
    },
    {
      "cell_type": "code",
      "source": [
        "Array_R_1.sum()"
      ],
      "metadata": {
        "colab": {
          "base_uri": "https://localhost:8080/"
        },
        "id": "k3tZmHdUMjp5",
        "outputId": "5de72e18-7e98-477a-cb0a-078d125b3359"
      },
      "execution_count": 4,
      "outputs": [
        {
          "output_type": "execute_result",
          "data": {
            "text/plain": [
              "1332"
            ]
          },
          "metadata": {},
          "execution_count": 4
        }
      ]
    },
    {
      "cell_type": "code",
      "source": [
        "Array_R_1.min()"
      ],
      "metadata": {
        "colab": {
          "base_uri": "https://localhost:8080/"
        },
        "id": "bdydcg3sMv-M",
        "outputId": "f4b12594-ea33-4bdb-f8f6-90ff3a3d8759"
      },
      "execution_count": 5,
      "outputs": [
        {
          "output_type": "execute_result",
          "data": {
            "text/plain": [
              "2"
            ]
          },
          "metadata": {},
          "execution_count": 5
        }
      ]
    },
    {
      "cell_type": "code",
      "source": [
        "Array_R_1.max()"
      ],
      "metadata": {
        "colab": {
          "base_uri": "https://localhost:8080/"
        },
        "id": "_XJfTS3-MyAm",
        "outputId": "042107cd-8c21-46ae-90a1-6852709536dd"
      },
      "execution_count": 6,
      "outputs": [
        {
          "output_type": "execute_result",
          "data": {
            "text/plain": [
              "144"
            ]
          },
          "metadata": {},
          "execution_count": 6
        }
      ]
    },
    {
      "cell_type": "code",
      "source": [
        "Array_R_1.mean()"
      ],
      "metadata": {
        "colab": {
          "base_uri": "https://localhost:8080/"
        },
        "id": "0w-x8dnNMzw_",
        "outputId": "244dd401-f3c3-4ec2-f95e-a86db7f6d836"
      },
      "execution_count": 7,
      "outputs": [
        {
          "output_type": "execute_result",
          "data": {
            "text/plain": [
              "66.6"
            ]
          },
          "metadata": {},
          "execution_count": 7
        }
      ]
    },
    {
      "cell_type": "code",
      "source": [
        "Array_R_1.std()"
      ],
      "metadata": {
        "colab": {
          "base_uri": "https://localhost:8080/"
        },
        "id": "HgB7KFXhM1ji",
        "outputId": "446e52a2-f89e-440c-dd61-b0044aebe9ea"
      },
      "execution_count": 8,
      "outputs": [
        {
          "output_type": "execute_result",
          "data": {
            "text/plain": [
              "45.611840567992864"
            ]
          },
          "metadata": {},
          "execution_count": 8
        }
      ]
    },
    {
      "cell_type": "code",
      "source": [
        "Array_R_2=np.arange(1,60,3)\n",
        "Array_R_2"
      ],
      "metadata": {
        "colab": {
          "base_uri": "https://localhost:8080/"
        },
        "id": "BEo2juAyM4Wk",
        "outputId": "e715331f-fcee-48bf-b61e-ebd2afe67e0e"
      },
      "execution_count": 10,
      "outputs": [
        {
          "output_type": "execute_result",
          "data": {
            "text/plain": [
              "array([ 1,  4,  7, 10, 13, 16, 19, 22, 25, 28, 31, 34, 37, 40, 43, 46, 49,\n",
              "       52, 55, 58])"
            ]
          },
          "metadata": {},
          "execution_count": 10
        }
      ]
    },
    {
      "cell_type": "code",
      "source": [
        "Array_R_2+Array_R_1"
      ],
      "metadata": {
        "colab": {
          "base_uri": "https://localhost:8080/"
        },
        "id": "akVsR9CvNL7y",
        "outputId": "57b21b45-4d10-4a99-c66a-4e99a28d4b69"
      },
      "execution_count": 12,
      "outputs": [
        {
          "output_type": "execute_result",
          "data": {
            "text/plain": [
              "array([ 15, 117,  12,  82, 109,  18,  97, 164,  90, 172, 102,  75,  56,\n",
              "        81,  97, 118, 191, 168,  88,  70])"
            ]
          },
          "metadata": {},
          "execution_count": 12
        }
      ]
    },
    {
      "cell_type": "code",
      "source": [
        "Array_R_1"
      ],
      "metadata": {
        "colab": {
          "base_uri": "https://localhost:8080/"
        },
        "id": "gDxNleGwNXie",
        "outputId": "228c1d7f-2954-4751-aede-dcea5e7ab357"
      },
      "execution_count": 13,
      "outputs": [
        {
          "output_type": "execute_result",
          "data": {
            "text/plain": [
              "array([ 14, 113,   5,  72,  96,   2,  78, 142,  65, 144,  71,  41,  19,\n",
              "        41,  54,  72, 142, 116,  33,  12])"
            ]
          },
          "metadata": {},
          "execution_count": 13
        }
      ]
    },
    {
      "cell_type": "code",
      "source": [
        "Array_R_1[10]"
      ],
      "metadata": {
        "colab": {
          "base_uri": "https://localhost:8080/"
        },
        "id": "2Yr6aY68NkoS",
        "outputId": "763ef9fd-39ea-47f2-9cd9-dfb271b198bf"
      },
      "execution_count": 28,
      "outputs": [
        {
          "output_type": "execute_result",
          "data": {
            "text/plain": [
              "71"
            ]
          },
          "metadata": {},
          "execution_count": 28
        }
      ]
    },
    {
      "cell_type": "code",
      "source": [
        "R_Element=Array_R_1[np.random.randint(1,21,1)]\n",
        "R_Element"
      ],
      "metadata": {
        "colab": {
          "base_uri": "https://localhost:8080/"
        },
        "id": "oCkqwmniNjKO",
        "outputId": "3c0d0fd4-1b2e-4c4b-de35-ead794550f12"
      },
      "execution_count": 33,
      "outputs": [
        {
          "output_type": "execute_result",
          "data": {
            "text/plain": [
              "array([2])"
            ]
          },
          "metadata": {},
          "execution_count": 33
        }
      ]
    },
    {
      "cell_type": "code",
      "source": [
        "index_value_1=np.where(Array_R_1==R_Element)\n",
        "index_value_1"
      ],
      "metadata": {
        "colab": {
          "base_uri": "https://localhost:8080/"
        },
        "id": "bVnLvQExNyKh",
        "outputId": "8ac41a79-da91-4d7a-93d9-93ac8cc3c7e6"
      },
      "execution_count": 34,
      "outputs": [
        {
          "output_type": "execute_result",
          "data": {
            "text/plain": [
              "(array([5]),)"
            ]
          },
          "metadata": {},
          "execution_count": 34
        }
      ]
    },
    {
      "cell_type": "code",
      "source": [
        "Array_R_2=Array_R_1.reshape(4,5)\n",
        "Array_R_2"
      ],
      "metadata": {
        "colab": {
          "base_uri": "https://localhost:8080/"
        },
        "id": "ez34cWO8OdPw",
        "outputId": "040069ab-e6b6-4d64-e513-f320dca27c33"
      },
      "execution_count": 38,
      "outputs": [
        {
          "output_type": "execute_result",
          "data": {
            "text/plain": [
              "array([[ 14, 113,   5,  72,  96],\n",
              "       [  2,  78, 142,  65, 144],\n",
              "       [ 71,  41,  19,  41,  54],\n",
              "       [ 72, 142, 116,  33,  12]])"
            ]
          },
          "metadata": {},
          "execution_count": 38
        }
      ]
    },
    {
      "cell_type": "code",
      "source": [
        "Array_R_2[:,(1,4)]"
      ],
      "metadata": {
        "colab": {
          "base_uri": "https://localhost:8080/"
        },
        "id": "fEzNdpEsPFuz",
        "outputId": "b2c77591-e768-4caf-90e7-5fb28a86dcae"
      },
      "execution_count": 40,
      "outputs": [
        {
          "output_type": "execute_result",
          "data": {
            "text/plain": [
              "array([[113,  96],\n",
              "       [ 78, 144],\n",
              "       [ 41,  54],\n",
              "       [142,  12]])"
            ]
          },
          "metadata": {},
          "execution_count": 40
        }
      ]
    },
    {
      "cell_type": "code",
      "source": [
        "Array_R_B=np.pad(Array_R_2,pad_width=1,mode=\"constant\",constant_values=0)\n",
        "Array_R_B"
      ],
      "metadata": {
        "colab": {
          "base_uri": "https://localhost:8080/"
        },
        "id": "sjOlXzi9PVIa",
        "outputId": "541160fe-a29d-44c7-e7d6-5490b3d80c5e"
      },
      "execution_count": 54,
      "outputs": [
        {
          "output_type": "execute_result",
          "data": {
            "text/plain": [
              "array([[  0,   0,   0,   0,   0,   0,   0],\n",
              "       [  0,  14, 113,   5,  72,  96,   0],\n",
              "       [  0,   2,  78, 142,  65, 144,   0],\n",
              "       [  0,  71,  41,  19,  41,  54,   0],\n",
              "       [  0,  72, 142, 116,  33,  12,   0],\n",
              "       [  0,   0,   0,   0,   0,   0,   0]])"
            ]
          },
          "metadata": {},
          "execution_count": 54
        }
      ]
    },
    {
      "cell_type": "code",
      "source": [
        "Array_R_3=np.random.randint(1,100,30)\n",
        "Array_R_3=Array_R_3.reshape(6,5)\n",
        "Array_R_3"
      ],
      "metadata": {
        "colab": {
          "base_uri": "https://localhost:8080/"
        },
        "id": "417SP119P1te",
        "outputId": "0295196b-ca53-4729-d19f-73707a4e5b5d"
      },
      "execution_count": 58,
      "outputs": [
        {
          "output_type": "execute_result",
          "data": {
            "text/plain": [
              "array([[55, 55, 83, 84, 89],\n",
              "       [56, 50, 49, 16, 87],\n",
              "       [78, 71, 71, 12, 96],\n",
              "       [87, 41, 85, 41, 12],\n",
              "       [10, 98, 68, 63, 61],\n",
              "       [ 5, 62, 66, 63, 35]])"
            ]
          },
          "metadata": {},
          "execution_count": 58
        }
      ]
    },
    {
      "cell_type": "code",
      "source": [
        "Array_R_3.sort()\n",
        "Array_R_3"
      ],
      "metadata": {
        "colab": {
          "base_uri": "https://localhost:8080/"
        },
        "id": "kf0XVGYsTTj_",
        "outputId": "a0032de2-0fe1-4479-c052-cb6fb4b35fe3"
      },
      "execution_count": 59,
      "outputs": [
        {
          "output_type": "execute_result",
          "data": {
            "text/plain": [
              "array([[55, 55, 83, 84, 89],\n",
              "       [16, 49, 50, 56, 87],\n",
              "       [12, 71, 71, 78, 96],\n",
              "       [12, 41, 41, 85, 87],\n",
              "       [10, 61, 63, 68, 98],\n",
              "       [ 5, 35, 62, 63, 66]])"
            ]
          },
          "metadata": {},
          "execution_count": 59
        }
      ]
    },
    {
      "cell_type": "code",
      "source": [
        "np.put(Array_R_3,np.random.choice(range(5,6),replace=False),12)\n",
        "Array_R_3"
      ],
      "metadata": {
        "colab": {
          "base_uri": "https://localhost:8080/"
        },
        "id": "UAjDpBecTxwj",
        "outputId": "742078b9-7195-4684-d7e7-4a28404635be"
      },
      "execution_count": 75,
      "outputs": [
        {
          "output_type": "execute_result",
          "data": {
            "text/plain": [
              "array([[55, 55, 83, 84, 89],\n",
              "       [12, 49, 50, 56, 87],\n",
              "       [12, 71, 71, 78, 96],\n",
              "       [12, 41, 41, 85, 87],\n",
              "       [10, 61, 63, 68, 98],\n",
              "       [ 5, 35, 62, 63, 66]])"
            ]
          },
          "metadata": {},
          "execution_count": 75
        }
      ]
    },
    {
      "cell_type": "code",
      "source": [
        "Array_5=np.arange(1,101).reshape(10,10)\n",
        "Array_5"
      ],
      "metadata": {
        "colab": {
          "base_uri": "https://localhost:8080/"
        },
        "id": "d45OKgVJUNNf",
        "outputId": "7aa58c5a-d844-49aa-89df-8192e4e54aa3"
      },
      "execution_count": 92,
      "outputs": [
        {
          "output_type": "execute_result",
          "data": {
            "text/plain": [
              "array([[  1,   2,   3,   4,   5,   6,   7,   8,   9,  10],\n",
              "       [ 11,  12,  13,  14,  15,  16,  17,  18,  19,  20],\n",
              "       [ 21,  22,  23,  24,  25,  26,  27,  28,  29,  30],\n",
              "       [ 31,  32,  33,  34,  35,  36,  37,  38,  39,  40],\n",
              "       [ 41,  42,  43,  44,  45,  46,  47,  48,  49,  50],\n",
              "       [ 51,  52,  53,  54,  55,  56,  57,  58,  59,  60],\n",
              "       [ 61,  62,  63,  64,  65,  66,  67,  68,  69,  70],\n",
              "       [ 71,  72,  73,  74,  75,  76,  77,  78,  79,  80],\n",
              "       [ 81,  82,  83,  84,  85,  86,  87,  88,  89,  90],\n",
              "       [ 91,  92,  93,  94,  95,  96,  97,  98,  99, 100]])"
            ]
          },
          "metadata": {},
          "execution_count": 92
        }
      ]
    },
    {
      "cell_type": "code",
      "source": [
        "Array_5=np.arange(1,101).reshape(10,10)\n",
        "np.put(Array_5,np.random.choice(range(5,6),replace=False),12)\n",
        "Array_5"
      ],
      "metadata": {
        "colab": {
          "base_uri": "https://localhost:8080/"
        },
        "id": "nfjT6D9gVzBR",
        "outputId": "f9b7d2a2-ade2-4ee9-e65b-3c58b2ec0602"
      },
      "execution_count": 93,
      "outputs": [
        {
          "output_type": "execute_result",
          "data": {
            "text/plain": [
              "array([[  1,   2,   3,   4,   5,  12,   7,   8,   9,  10],\n",
              "       [ 11,  12,  13,  14,  15,  16,  17,  18,  19,  20],\n",
              "       [ 21,  22,  23,  24,  25,  26,  27,  28,  29,  30],\n",
              "       [ 31,  32,  33,  34,  35,  36,  37,  38,  39,  40],\n",
              "       [ 41,  42,  43,  44,  45,  46,  47,  48,  49,  50],\n",
              "       [ 51,  52,  53,  54,  55,  56,  57,  58,  59,  60],\n",
              "       [ 61,  62,  63,  64,  65,  66,  67,  68,  69,  70],\n",
              "       [ 71,  72,  73,  74,  75,  76,  77,  78,  79,  80],\n",
              "       [ 81,  82,  83,  84,  85,  86,  87,  88,  89,  90],\n",
              "       [ 91,  92,  93,  94,  95,  96,  97,  98,  99, 100]])"
            ]
          },
          "metadata": {},
          "execution_count": 93
        }
      ]
    },
    {
      "cell_type": "code",
      "source": [
        "Array_5[:4]"
      ],
      "metadata": {
        "colab": {
          "base_uri": "https://localhost:8080/"
        },
        "id": "37oM1ImFWMde",
        "outputId": "85c84583-17a5-4cc0-8778-edb4287993a0"
      },
      "execution_count": 94,
      "outputs": [
        {
          "output_type": "execute_result",
          "data": {
            "text/plain": [
              "array([[ 1,  2,  3,  4,  5, 12,  7,  8,  9, 10],\n",
              "       [11, 12, 13, 14, 15, 16, 17, 18, 19, 20],\n",
              "       [21, 22, 23, 24, 25, 26, 27, 28, 29, 30],\n",
              "       [31, 32, 33, 34, 35, 36, 37, 38, 39, 40]])"
            ]
          },
          "metadata": {},
          "execution_count": 94
        }
      ]
    },
    {
      "cell_type": "code",
      "source": [
        "Array_5[7:,5:]"
      ],
      "metadata": {
        "colab": {
          "base_uri": "https://localhost:8080/"
        },
        "id": "p5VxwGt_XA0R",
        "outputId": "9845cae8-7641-4312-fc61-8db09d943eb1"
      },
      "execution_count": 102,
      "outputs": [
        {
          "output_type": "execute_result",
          "data": {
            "text/plain": [
              "array([[ 76,  77,  78,  79,  80],\n",
              "       [ 86,  87,  88,  89,  90],\n",
              "       [ 96,  97,  98,  99, 100]])"
            ]
          },
          "metadata": {},
          "execution_count": 102
        }
      ]
    },
    {
      "cell_type": "code",
      "source": [
        "Array_5[2:5,4:7]"
      ],
      "metadata": {
        "colab": {
          "base_uri": "https://localhost:8080/"
        },
        "id": "RBX3RguUXPJB",
        "outputId": "9e84656f-b62a-4100-ffec-32279718a705"
      },
      "execution_count": 103,
      "outputs": [
        {
          "output_type": "execute_result",
          "data": {
            "text/plain": [
              "array([[25, 26, 27],\n",
              "       [35, 36, 37],\n",
              "       [45, 46, 47]])"
            ]
          },
          "metadata": {},
          "execution_count": 103
        }
      ]
    },
    {
      "cell_type": "code",
      "source": [
        "Array_5[:,9]"
      ],
      "metadata": {
        "colab": {
          "base_uri": "https://localhost:8080/"
        },
        "id": "ZdIX9FoXYAWy",
        "outputId": "9aa7eb7d-55db-4bc9-fc5a-cdee1f8c4633"
      },
      "execution_count": 107,
      "outputs": [
        {
          "output_type": "execute_result",
          "data": {
            "text/plain": [
              "array([ 10,  20,  30,  40,  50,  60,  70,  80,  90, 100])"
            ]
          },
          "metadata": {},
          "execution_count": 107
        }
      ]
    },
    {
      "cell_type": "code",
      "source": [
        "Array_5[0,:]"
      ],
      "metadata": {
        "colab": {
          "base_uri": "https://localhost:8080/"
        },
        "id": "x0Z0B3kvYx-B",
        "outputId": "0be35ee5-6b5b-4420-8467-068864cfc8d1"
      },
      "execution_count": 108,
      "outputs": [
        {
          "output_type": "execute_result",
          "data": {
            "text/plain": [
              "array([ 1,  2,  3,  4,  5, 12,  7,  8,  9, 10])"
            ]
          },
          "metadata": {},
          "execution_count": 108
        }
      ]
    },
    {
      "cell_type": "code",
      "source": [
        "Array_A=((np.random.rand(15)*10).astype(int)).reshape(3,5)\n",
        "Array_A"
      ],
      "metadata": {
        "colab": {
          "base_uri": "https://localhost:8080/"
        },
        "id": "ehJv4uBVZB9M",
        "outputId": "e546fdbd-8731-4792-e42f-756d9f0a3f4d"
      },
      "execution_count": 120,
      "outputs": [
        {
          "output_type": "execute_result",
          "data": {
            "text/plain": [
              "array([[3, 5, 9, 3, 2],\n",
              "       [3, 9, 2, 8, 7],\n",
              "       [8, 1, 9, 2, 7]])"
            ]
          },
          "metadata": {},
          "execution_count": 120
        }
      ]
    },
    {
      "cell_type": "code",
      "source": [
        "Array_B=((np.random.rand(15)*10).astype(int)).reshape(3,5)\n",
        "Array_B"
      ],
      "metadata": {
        "colab": {
          "base_uri": "https://localhost:8080/"
        },
        "id": "wYv-nTmrZFr2",
        "outputId": "10c35f80-0f58-452a-99e0-91d6da348254"
      },
      "execution_count": 121,
      "outputs": [
        {
          "output_type": "execute_result",
          "data": {
            "text/plain": [
              "array([[4, 6, 3, 1, 3],\n",
              "       [1, 2, 6, 3, 6],\n",
              "       [1, 1, 0, 0, 4]])"
            ]
          },
          "metadata": {},
          "execution_count": 121
        }
      ]
    },
    {
      "cell_type": "code",
      "source": [
        "Array_A+Array_B"
      ],
      "metadata": {
        "colab": {
          "base_uri": "https://localhost:8080/"
        },
        "id": "xFc4KUKtaMP-",
        "outputId": "c2510283-7ae5-485d-ca3c-0dfe50bd3694"
      },
      "execution_count": 122,
      "outputs": [
        {
          "output_type": "execute_result",
          "data": {
            "text/plain": [
              "array([[ 7, 11, 12,  4,  5],\n",
              "       [ 4, 11,  8, 11, 13],\n",
              "       [ 9,  2,  9,  2, 11]])"
            ]
          },
          "metadata": {},
          "execution_count": 122
        }
      ]
    },
    {
      "cell_type": "code",
      "source": [
        "Array_A*Array_B"
      ],
      "metadata": {
        "colab": {
          "base_uri": "https://localhost:8080/"
        },
        "id": "nWegOmWQaSO2",
        "outputId": "fabbf1a9-1775-4d09-cbac-57511647c1ad"
      },
      "execution_count": 123,
      "outputs": [
        {
          "output_type": "execute_result",
          "data": {
            "text/plain": [
              "array([[12, 30, 27,  3,  6],\n",
              "       [ 3, 18, 12, 24, 42],\n",
              "       [ 8,  1,  0,  0, 28]])"
            ]
          },
          "metadata": {},
          "execution_count": 123
        }
      ]
    },
    {
      "cell_type": "code",
      "source": [
        "(Array_A/Array_B).astype(int)"
      ],
      "metadata": {
        "colab": {
          "base_uri": "https://localhost:8080/"
        },
        "id": "qp8e4C30aXqH",
        "outputId": "d3429763-d894-4dcb-9bde-6cb776bef55c"
      },
      "execution_count": 129,
      "outputs": [
        {
          "output_type": "stream",
          "name": "stderr",
          "text": [
            "/usr/local/lib/python3.7/dist-packages/ipykernel_launcher.py:1: RuntimeWarning: divide by zero encountered in true_divide\n",
            "  \"\"\"Entry point for launching an IPython kernel.\n"
          ]
        },
        {
          "output_type": "execute_result",
          "data": {
            "text/plain": [
              "array([[                   0,                    0,                    3,\n",
              "                           3,                    0],\n",
              "       [                   3,                    4,                    0,\n",
              "                           2,                    1],\n",
              "       [                   8,                    1, -9223372036854775808,\n",
              "        -9223372036854775808,                    1]])"
            ]
          },
          "metadata": {},
          "execution_count": 129
        }
      ]
    }
  ]
}